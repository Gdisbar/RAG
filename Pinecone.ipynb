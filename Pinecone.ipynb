{
 "cells": [
  {
   "cell_type": "code",
   "execution_count": null,
   "id": "ae729216",
   "metadata": {},
   "outputs": [],
   "source": []
  },
  {
   "cell_type": "code",
   "execution_count": 1,
   "id": "c8a54975",
   "metadata": {},
   "outputs": [],
   "source": [
    "# %pip install -r requirements.txt"
   ]
  },
  {
   "cell_type": "code",
   "execution_count": 1,
   "id": "a99d4c3b",
   "metadata": {},
   "outputs": [],
   "source": [
    "import os\n",
    "from dotenv import load_dotenv\n",
    "\n",
    "load_dotenv()\n",
    "\n",
    "mistral_key = os.getenv(\"Mistral\")\n",
    "pinecone_key = os.getenv(\"PINECONE_API_KEY\")\n",
    "os.environ[\"PINECONE_API_KEY\"] = pinecone_key\n",
    "os.environ[\"HF_TOKEN\"]=os.getenv(\"HuggingFace\")"
   ]
  },
  {
   "cell_type": "code",
   "execution_count": 2,
   "id": "2f01bbbf",
   "metadata": {},
   "outputs": [
    {
     "name": "stderr",
     "output_type": "stream",
     "text": [
      "e:\\Python_PIP\\Research_Analyst\\virtualenv\\Lib\\site-packages\\tqdm\\auto.py:21: TqdmWarning: IProgress not found. Please update jupyter and ipywidgets. See https://ipywidgets.readthedocs.io/en/stable/user_install.html\n",
      "  from .autonotebook import tqdm as notebook_tqdm\n"
     ]
    },
    {
     "data": {
      "text/plain": [
       "1024"
      ]
     },
     "execution_count": 2,
     "metadata": {},
     "output_type": "execute_result"
    }
   ],
   "source": [
    "from langchain_mistralai.embeddings import MistralAIEmbeddings\n",
    "\n",
    "embeddings = MistralAIEmbeddings(\n",
    "    model=\"mistral-embed\",\n",
    "    api_key=mistral_key,\n",
    "    max_retries=5,\n",
    "    # request_timeout=60,\n",
    ")\n",
    "\n",
    "embedding_vector = embeddings.embed_query(\"hello world!\")\n",
    "embedding_dimension = len(embedding_vector)\n",
    "embedding_dimension \n"
   ]
  },
  {
   "cell_type": "code",
   "execution_count": 3,
   "id": "cdde5e03",
   "metadata": {},
   "outputs": [],
   "source": [
    "import pypdf\n",
    "from langchain_experimental.text_splitter import SemanticChunker\n",
    "\n",
    "def convert_pdf_documents(path,embeddings):\n",
    "    reader = pypdf.PdfReader(path)\n",
    "    content = \"\"\n",
    "    for page_num in range(len(reader.pages)):\n",
    "        page = reader.pages[page_num]\n",
    "        content += page.extract_text()\n",
    "\n",
    "    text_splitter = SemanticChunker(embeddings,\n",
    "                                breakpoint_threshold_type=\"gradient\",\n",
    "                                )\n",
    "    docs = text_splitter.create_documents([content])\n",
    "    \n",
    "    return docs\n"
   ]
  },
  {
   "cell_type": "code",
   "execution_count": 4,
   "id": "75a93342",
   "metadata": {},
   "outputs": [
    {
     "name": "stdout",
     "output_type": "stream",
     "text": [
      "90 <class 'list'>\n"
     ]
    }
   ],
   "source": [
    "path=\"resources\\jk_agri.pdf\"\n",
    "docs = convert_pdf_documents(path,embeddings)\n",
    "print(len(docs),type(docs))"
   ]
  },
  {
   "cell_type": "code",
   "execution_count": 6,
   "id": "097cdc2a",
   "metadata": {},
   "outputs": [],
   "source": [
    "## docs = dos[:50]\n",
    "# docs = docs[50:] # at a time an't take more than 50 docs, so split\n",
    "# len(docs)"
   ]
  },
  {
   "cell_type": "code",
   "execution_count": 7,
   "id": "12e14db2",
   "metadata": {},
   "outputs": [],
   "source": [
    "# from pinecone import ServerlessSpec\n",
    "# from pinecone import Pinecone\n",
    "\n",
    "# pc = Pinecone(\n",
    "#     api_key=pinecone_key)\n",
    "\n",
    "# index_name = \"demo\"\n",
    "# demo_namespace = \"example\"\n",
    "\n",
    "# if index_name not in pc.list_indexes().names():\n",
    "#     pc.create_index(\n",
    "#       name=index_name,\n",
    "#       metric=\"cosine\",\n",
    "#       dimension=embedding_dimension,\n",
    "#       spec=ServerlessSpec(cloud=\"aws\",region=\"us-east-1\")\n",
    "# )\n",
    "\n",
    "# index = pc.Index(index_name)\n",
    "\n",
    "\n",
    "# from langchain.docstore.document import Document\n",
    "# from langchain_pinecone import Pinecone\n",
    "\n",
    "# # If id is not specified, LangChain will assign a random UUID for each document.\n",
    "# ids = [\"1\", \"2\", \"3\", \"4\"]\n",
    "# texts = [\"foo\", \"bar\", \"world\", \"hello\"]\n",
    "\n",
    "# meta_key_1 = \"meta_1\"\n",
    "# meta_key_2 = \"meta_2\"\n",
    "# metadatas = [{meta_key_1: \"a1\", meta_key_2: \"a2\"}, {meta_key_1: \"b1\", meta_key_2: \"b2\"}, {meta_key_1: \"c1\", meta_key_2: \"c2\"}, {meta_key_1: \"d1\", meta_key_2: \"d2\"}]\n",
    "\n",
    "# documents = []\n",
    "# for i in range(len(ids)):\n",
    "#   documents.append(Document(ids=ids[i], page_content=texts[i], metadata=metadatas[i]))\n",
    "\n",
    "# # Existing documents persist and aren't replaced.\n",
    "# docsearch = Pinecone.from_documents(documents, embeddings, index_name=index_name, namespace=demo_namespace, ids=ids)\n",
    "\n",
    "# docsearch.add_texts(texts=texts, metadatas=metadatas, ids=ids, namespace=demo_namespace)\n",
    "\n",
    "\n",
    "\n",
    "#### ===================== Semantic Search ================== #####\n",
    "\n",
    "\n",
    "# query = \"foo2 bar\"\n",
    "# top_k = 2\n",
    "# docs = docsearch.similarity_search_with_score(query, namespace=demo_namespace, k=top_k)\n",
    "# print(docs)"
   ]
  },
  {
   "cell_type": "code",
   "execution_count": 5,
   "id": "00a13099",
   "metadata": {},
   "outputs": [],
   "source": [
    "from pinecone import ServerlessSpec\n",
    "from pinecone import Pinecone as PineconeClient\n",
    "\n",
    "pc = PineconeClient(api_key=os.getenv(\"PINECONE_API_KEY\"))\n",
    "\n",
    "doc_index_name = \"finance-pdf-index\"\n",
    "doc_namespace = \"pdf-semantic-search\"\n",
    "\n",
    "if doc_index_name not in pc.list_indexes().names():\n",
    "    pc.create_index(\n",
    "      name=doc_index_name,\n",
    "      metric=\"cosine\",\n",
    "      dimension=embedding_dimension,\n",
    "      spec=ServerlessSpec(cloud=\"aws\",region=\"us-east-1\")\n",
    ")\n",
    "\n",
    "index = pc.Index(doc_index_name)"
   ]
  },
  {
   "cell_type": "code",
   "execution_count": 6,
   "id": "52ec09e3",
   "metadata": {},
   "outputs": [],
   "source": [
    "from langchain_pinecone import PineconeVectorStore\n",
    "import time\n",
    "\n",
    "\n",
    "def add_documents_in_batches(docs, embeddings, batch_size=5):\n",
    "    total_docs = len(docs)\n",
    "    \n",
    "    for i in range(0, total_docs, batch_size):\n",
    "        batch = docs[i:i + batch_size]\n",
    "        print(f\"Processing batch {i//batch_size + 1}/{(total_docs + batch_size - 1)//batch_size}\")\n",
    "        try:\n",
    "            if i == 0:\n",
    "                # Create the vector store with first batch\n",
    "                vectorstore = PineconeVectorStore.from_documents(\n",
    "                    batch,\n",
    "                    embeddings,\n",
    "                    index_name=doc_index_name,\n",
    "                    namespace=doc_namespace,\n",
    "                )\n",
    "            else:\n",
    "                # Add subsequent batches\n",
    "                vectorstore.add_documents(batch, namespace=doc_namespace)\n",
    "            \n",
    "            time.sleep(2)\n",
    "            \n",
    "        except Exception as e:\n",
    "            print(f\"Error processing batch {i//batch_size + 1}: {e}\")\n",
    "            # Exponential backoff\n",
    "            time.sleep(5 * (2 ** (i//batch_size)))\n",
    "            continue\n",
    "    \n",
    "    return vectorstore\n",
    "\n",
    "\n",
    "def add_remaining_documents_in_batches(docs, embeddings, batch_size=5):\n",
    "    total_docs = len(docs)\n",
    "    \n",
    "    for i in range(0, total_docs, batch_size):\n",
    "        batch = docs[i:i + batch_size]\n",
    "        print(f\"Processing batch {i//batch_size + 1}/{(total_docs + batch_size - 1)//batch_size}\")\n",
    "        try:\n",
    "            vectorstore = PineconeVectorStore(index, embeddings,\n",
    "                                  \"text\", namespace=doc_namespace)\n",
    "            vectorstore.add_documents(batch, namespace=doc_namespace)\n",
    "            \n",
    "            time.sleep(2)\n",
    "            \n",
    "        except Exception as e:\n",
    "            print(f\"Error processing batch {i//batch_size + 1}: {e}\")\n",
    "            # Exponential backoff\n",
    "            time.sleep(5 * (2 ** (i//batch_size)))\n",
    "            continue\n",
    "    \n",
    "    return vectorstore\n"
   ]
  },
  {
   "cell_type": "markdown",
   "id": "c77e6b21",
   "metadata": {},
   "source": [
    "##### Ingest documents "
   ]
  },
  {
   "cell_type": "code",
   "execution_count": 10,
   "id": "172c69f3",
   "metadata": {},
   "outputs": [],
   "source": [
    "# doc_search = add_documents_in_batches(docs, embeddings,batch_size=10)\n",
    "# doc_search = add_remaining_documents_in_batches(docs, embeddings,\n",
    "#                                                 batch_size=10)\n",
    "\n"
   ]
  },
  {
   "cell_type": "code",
   "execution_count": 7,
   "id": "e4a1743c",
   "metadata": {},
   "outputs": [
    {
     "name": "stdout",
     "output_type": "stream",
     "text": [
      "{'dimension': 1024,\n",
      " 'index_fullness': 0.0,\n",
      " 'metric': 'cosine',\n",
      " 'namespaces': {'pdf-semantic-search': {'vector_count': 178}},\n",
      " 'total_vector_count': 178,\n",
      " 'vector_type': 'dense'}\n"
     ]
    }
   ],
   "source": [
    "stats = index.describe_index_stats()\n",
    "print(stats)"
   ]
  },
  {
   "cell_type": "code",
   "execution_count": null,
   "id": "948d2b4d",
   "metadata": {},
   "outputs": [
    {
     "data": {
      "text/plain": [
       "2"
      ]
     },
     "execution_count": 11,
     "metadata": {},
     "output_type": "execute_result"
    }
   ],
   "source": [
    "from langchain_pinecone import PineconeVectorStore\n",
    "\n",
    "query = \"what is the profit after tax ? how much did it change ?\"\n",
    "top_k = 2\n",
    "vectorstore = PineconeVectorStore(\n",
    "    index, embeddings, \"text\", namespace=doc_namespace\n",
    ")\n",
    "result_docs = vectorstore.similarity_search_with_score(query, \n",
    "                                               namespace=doc_namespace, \n",
    "                                               k=top_k)\n",
    "len(result_docs)"
   ]
  },
  {
   "cell_type": "code",
   "execution_count": 10,
   "id": "ea1e521a",
   "metadata": {},
   "outputs": [],
   "source": [
    "# for result_doc in result_docs:\n",
    "#     print(result_doc[0])\n",
    "#     print(\"=========================\")"
   ]
  },
  {
   "cell_type": "markdown",
   "id": "d6860149",
   "metadata": {},
   "source": [
    "Extract context using SelfQueryRetriever : Retriever that uses a vector store and an LLM to generate the vector store queries\n",
    "\n",
    "details : https://python.langchain.com/api_reference/langchain/retrievers.html"
   ]
  },
  {
   "cell_type": "code",
   "execution_count": null,
   "id": "32fd5865",
   "metadata": {},
   "outputs": [],
   "source": [
    "from langchain_mistralai.chat_models import ChatMistralAI\n",
    "\n",
    "llm = ChatMistralAI(\n",
    "    model=\"mistral-large-latest\",  \n",
    "    mistral_api_key=mistral_key,\n",
    "    temperature=0\n",
    ")"
   ]
  },
  {
   "cell_type": "code",
   "execution_count": 17,
   "id": "b403d931",
   "metadata": {},
   "outputs": [
    {
     "data": {
      "text/plain": [
       "SelfQueryRetriever(vectorstore=<langchain_pinecone.vectorstores.PineconeVectorStore object at 0x000002B8A473E010>, query_constructor=RunnableBinding(bound=FewShotPromptTemplate(input_variables=['query'], input_types={}, partial_variables={}, examples=[{'i': 1, 'data_source': '```json\\n{{\\n    \"content\": \"Lyrics of a song\",\\n    \"attributes\": {{\\n        \"artist\": {{\\n            \"type\": \"string\",\\n            \"description\": \"Name of the song artist\"\\n        }},\\n        \"length\": {{\\n            \"type\": \"integer\",\\n            \"description\": \"Length of the song in seconds\"\\n        }},\\n        \"genre\": {{\\n            \"type\": \"string\",\\n            \"description\": \"The song genre, one of \"pop\", \"rock\" or \"rap\"\"\\n        }}\\n    }}\\n}}\\n```', 'user_query': 'What are songs by Taylor Swift or Katy Perry about teenage romance under 3 minutes long in the dance pop genre', 'structured_request': '```json\\n{{\\n    \"query\": \"teenager love\",\\n    \"filter\": \"and(or(eq(\\\\\"artist\\\\\", \\\\\"Taylor Swift\\\\\"), eq(\\\\\"artist\\\\\", \\\\\"Katy Perry\\\\\")), lt(\\\\\"length\\\\\", 180), eq(\\\\\"genre\\\\\", \\\\\"pop\\\\\"))\"\\n}}\\n```'}, {'i': 2, 'data_source': '```json\\n{{\\n    \"content\": \"Lyrics of a song\",\\n    \"attributes\": {{\\n        \"artist\": {{\\n            \"type\": \"string\",\\n            \"description\": \"Name of the song artist\"\\n        }},\\n        \"length\": {{\\n            \"type\": \"integer\",\\n            \"description\": \"Length of the song in seconds\"\\n        }},\\n        \"genre\": {{\\n            \"type\": \"string\",\\n            \"description\": \"The song genre, one of \"pop\", \"rock\" or \"rap\"\"\\n        }}\\n    }}\\n}}\\n```', 'user_query': 'What are songs that were not published on Spotify', 'structured_request': '```json\\n{{\\n    \"query\": \"\",\\n    \"filter\": \"NO_FILTER\"\\n}}\\n```'}, {'i': 3, 'data_source': '```json\\n{{\\n    \"content\": \"Lyrics of a song\",\\n    \"attributes\": {{\\n        \"artist\": {{\\n            \"type\": \"string\",\\n            \"description\": \"Name of the song artist\"\\n        }},\\n        \"length\": {{\\n            \"type\": \"integer\",\\n            \"description\": \"Length of the song in seconds\"\\n        }},\\n        \"genre\": {{\\n            \"type\": \"string\",\\n            \"description\": \"The song genre, one of \"pop\", \"rock\" or \"rap\"\"\\n        }}\\n    }}\\n}}\\n```', 'user_query': 'What are three songs about love', 'structured_request': '```json\\n{{\\n    \"query\": \"love\",\\n    \"filter\": \"NO_FILTER\",\\n    \"limit\": 2\\n}}\\n```'}], example_prompt=PromptTemplate(input_variables=['data_source', 'i', 'structured_request', 'user_query'], input_types={}, partial_variables={}, template='<< Example {i}. >>\\nData Source:\\n{data_source}\\n\\nUser Query:\\n{user_query}\\n\\nStructured Request:\\n{structured_request}\\n'), suffix='<< Example 4. >>\\nData Source:\\n```json\\n{{\\n    \"content\": \"Annual report of J.K Agri 2025\",\\n    \"attributes\": {{}}\\n}}\\n```\\n\\nUser Query:\\n{query}\\n\\nStructured Request:\\n', prefix='Your goal is to structure the user\\'s query to match the request schema provided below.\\n\\n<< Structured Request Schema >>\\nWhen responding use a markdown code snippet with a JSON object formatted in the following schema:\\n\\n```json\\n{{\\n    \"query\": string \\\\ text string to compare to document contents\\n    \"filter\": string \\\\ logical condition statement for filtering documents\\n    \"limit\": int \\\\ the number of documents to retrieve\\n}}\\n```\\n\\nThe query string should contain only text that is expected to match the contents of documents. Any conditions in the filter should not be mentioned in the query as well.\\n\\nA logical condition statement is composed of one or more comparison and logical operation statements.\\n\\nA comparison statement takes the form: `comp(attr, val)`:\\n- `comp` (eq | ne | lt | lte | gt | gte | in | nin): comparator\\n- `attr` (string):  name of attribute to apply the comparison to\\n- `val` (string): is the comparison value\\n\\nA logical operation statement takes the form `op(statement1, statement2, ...)`:\\n- `op` (and | or): logical operator\\n- `statement1`, `statement2`, ... (comparison statements or logical operation statements): one or more statements to apply the operation to\\n\\nMake sure that you only use the comparators and logical operators listed above and no others.\\nMake sure that filters only refer to attributes that exist in the data source.\\nMake sure that filters only use the attributed names with its function names if there are functions applied on them.\\nMake sure that filters only use format `YYYY-MM-DD` when handling date data typed values.\\nMake sure that filters take into account the descriptions of attributes and only make comparisons that are feasible given the type of data being stored.\\nMake sure that filters are only used as needed. If there are no filters that should be applied return \"NO_FILTER\" for the filter value.\\nMake sure the `limit` is always an int value. It is an optional parameter so leave it blank if it does not make sense.\\n')\n",
       "| ChatMistralAI(client=<httpx.Client object at 0x000002B88A623550>, async_client=<httpx.AsyncClient object at 0x000002B8A468DD50>, mistral_api_key=SecretStr('**********'), endpoint='https://api.mistral.ai/v1', model='mistral-large-latest', temperature=0.0, model_kwargs={})\n",
       "| StructuredQueryOutputParser(ast_parse=<bound method Lark.parse of Lark(open('<string>'), parser='lalr', lexer='contextual', ...)>), kwargs={}, config={'run_name': 'query_constructor'}, config_factories=[]), search_kwargs={'k': 2, 'namespace': 'pdf-semantic-search'}, structured_query_translator=<langchain_community.query_constructors.pinecone.PineconeTranslator object at 0x000002B8A4C3B8D0>, verbose=True)"
      ]
     },
     "execution_count": 17,
     "metadata": {},
     "output_type": "execute_result"
    }
   ],
   "source": [
    "from langchain.retrievers.self_query.base import SelfQueryRetriever\n",
    "from langchain_pinecone import PineconeVectorStore\n",
    "\n",
    "\n",
    "vectorstore = PineconeVectorStore(\n",
    "    index, embeddings, \"text\", namespace=doc_namespace\n",
    ")\n",
    "\n",
    "metadata_field_info = []\n",
    "document_content_description = \"Annual report of J.K Agri 2025\"\n",
    "\n",
    "chunks_query_retriever = SelfQueryRetriever.from_llm(\n",
    "    llm, \n",
    "    vectorstore, \n",
    "    document_content_description, \n",
    "    metadata_field_info,  # Empty list\n",
    "    verbose=True,\n",
    "    enable_limit=True,\n",
    "    search_kwargs={\"k\": 2, \"namespace\": doc_namespace}\n",
    ")\n",
    "\n",
    "chunks_query_retriever"
   ]
  },
  {
   "cell_type": "code",
   "execution_count": 18,
   "id": "3be9f80b",
   "metadata": {},
   "outputs": [
    {
     "name": "stdout",
     "output_type": "stream",
     "text": [
      "Context 1:\n",
      "d. Long-term Employee Benefit. Compensated absences which are not expected to occur within twelve months after the end of the period \n",
      "in which the employee renders the related services are recognized as a liability at the present value of \n",
      "the defined benefit obligation at the balance sheet date. Annual leaves can either be availed or encashed subject to restriction on the maximum accumulation of \n",
      "leaves. (viii) Taxes on Income\n",
      " a. Current tax: \n",
      "  Tax on income for the current period is determined on the basis of estimated taxable income and tax \n",
      "credits computed in accordance with the provisions of the relevant tax laws and based on the expected \n",
      "outcome of assessments / appeals. Current income tax relating to items recognized directly in equity is recognized in equity and not in the \n",
      "statement of profit and loss.\n",
      "\n",
      "================\n",
      "\n",
      "Context 2:\n",
      "51\n",
      "Income Tax Expense. i. Amount recognized in statement of profit and loss :- (` In Lacs)\n",
      "Particulars 2024-25\n",
      "A) Current Income Tax\n",
      "Current Year  - \n",
      "Prior Period Tax Adjustment  83.67 \n",
      "MAT Credit Entitlement  - \n",
      "Total  83.67 \n",
      "B) Deferred tax  (79.73)\n",
      "Income tax reports in Statement of Profit and Loss (A+B)  3.94 \n",
      "ii. Income Tax recognized in other Comprehensive Income :-  (` In Lacs)\n",
      "Particulars 2024-25\n",
      "Deferred Tax (Gain)/Loss on defined benefit  1.70 21st Annual Report 2024-25\n",
      "121 \n",
      "iii. Reconciliation of effective tax rate  (` in Lacs)\n",
      "Particulars 2024-25\n",
      "Accounting Profit/(Loss) before income tax  (246.94)\n",
      "At applicable Statutory Income tax rate 29.12%\n",
      "Computed Income Tax Expense/(Income) (71.91)\n",
      "Increase / (Reduction) in taxes on account of :\n",
      "Other Additions /(Deductions) as per IT Act (7.82)\n",
      "Prior period adjustment 83.67\n",
      "Brought forwarded Losses  - \n",
      "Income Tax Expenses / (Income) reported in Profit & Loss 3.94\n",
      "Effective Tax Rate -1.60%\n",
      "iv. Reconciliation of deferred tax Asset / (Liability) Net:   (` in Lacs)\n",
      "Particulars 2024-25\n",
      "Opening Balance  2,875.09 \n",
      "Less: Prior Period Tax Adjustment  83.67 \n",
      "Add: Deferred Tax Expense recognised in Statement of Profit and Loss  79.73 \n",
      "Add: Other comprehensive income  1.70 \n",
      "Closing Balance  2,872.86 \n",
      "v. Deferred Tax: \n",
      "Deferred Tax Relates to the followings:    (` in Lacs)\n",
      "Particulars 2024-25\n",
      "Book base and tax base of Property Plant and Equipments  (227.03)\n",
      "(Disallowance) / Allowance (net) under Income Tax & Others  514.95 \n",
      "Unabsorbed Depreciation & Business Losses  1,288.73 \n",
      "MAT Credit entitlement  1,296.21 \n",
      "Total Deferred Tax Asset  2,872.86 \n",
      "Note No. 52\n",
      "Changes in liabilities arising from financing activities:\n",
      " (` in Lacs)\n",
      "Particulars Opening Cash Flows Non Cash \n",
      "Items  2024-25 \n",
      "Fair Value \n",
      "Changes\n",
      " Long Term Borrowings 1118.06 (1118.06)  -  - \n",
      " Short Term Borrowings 1640.88 (1441.25)  - 199.63 \n",
      " Interest Paid  (769.53) (626.78)  (18.52)  (645.30)\n",
      " Total 1989.40 (3186.09) (18.52) (445.67)122   Annual Report 2024-25 \n",
      "Note No. 53\n",
      "Impairment Testing of Intangible Assets\n",
      "The Brands are considered to have an Indefinite useful life on the basis of the expected longevity and tested for \n",
      "impairment annually, in case there is any indication for impairment of carrying value. Based on internal analysis \n",
      "and relevant factors, the Management is of the opinion that, the brand is expected to continue to generate cash \n",
      "flows for an undetermined period. Note No. 54\n",
      "Exceptional Items include net gain on sale of agricultural land of ` 6120.97 Lacs. Note No. 55\n",
      "Revenue recognised under contracts (` in Lacs)\n",
      "a) The disaggregation of revenue earned under contracts as per Ind AS-115 is as \n",
      "follows :\n",
      "Category-wise  2024-25\n",
      "Revenue recognised at the point of time \n",
      "Sale of Seeds & Allied products  15,904.58 \n",
      "b) Revenue-related receivables at the year end: As at  \n",
      "31.03.2025\n",
      "Trade receivables (Refer Note no.9)  4,233.87 \n",
      "c) Reconciling the amount of revenue recognised during the year in the statement of \n",
      "profit and loss at the contracted price :\n",
      "2024-25\n",
      "Revenue as per contracted price (Net of discounts)  15,904.58 \n",
      "d) Impairment in Trade receivables are disclosed as ‘Allowance for Expected Credit Loss’ amounting ₹ \n",
      "1480.37 lacs\n",
      "The movement in the allowance for impairment in respect of trade receivables is given below\n",
      "Particulars 2024-25\n",
      "Balance of provision for expected credit loss at the beginning  1,450.65 \n",
      "Impairment loss recognised - Refer note no 9  542.90 \n",
      "Bad Debts recognised during the year  (513.18)\n",
      "Balance at the end  1,480.37 \n",
      "Note No.\n",
      "\n",
      "================\n",
      "\n"
     ]
    }
   ],
   "source": [
    "query = \"what is the profit after tax ? how much did it change ?\"\n",
    "\n",
    "relevant_docs = chunks_query_retriever.invoke(query)\n",
    "context = [doc.page_content for doc in relevant_docs]\n",
    "\n",
    "for i, c in enumerate(context):\n",
    "        print(f\"Context {i + 1}:\")\n",
    "        print(c)\n",
    "        print(\"\\n================\\n\")"
   ]
  },
  {
   "cell_type": "code",
   "execution_count": 19,
   "id": "ba8fed6d",
   "metadata": {},
   "outputs": [
    {
     "name": "stdout",
     "output_type": "stream",
     "text": [
      "Sample document metadata: {}\n"
     ]
    }
   ],
   "source": [
    "# Check what metadata your documents actually have\n",
    "sample_docs = vectorstore.similarity_search(\"section_type\", k=2, \n",
    "                                            namespace=doc_namespace)\n",
    "if sample_docs:\n",
    "    print(\"Sample document metadata:\", sample_docs[0].metadata)"
   ]
  },
  {
   "cell_type": "markdown",
   "id": "56877248",
   "metadata": {},
   "source": [
    "### Using Pincone native model to create index & search on it"
   ]
  },
  {
   "cell_type": "code",
   "execution_count": 23,
   "id": "017c413d",
   "metadata": {},
   "outputs": [
    {
     "data": {
      "text/plain": [
       "Document(metadata={}, page_content='JKAGL: SECTL: SE: 2025  Date: 11th August 2025 \\nBSE Ltd. Department of Corporate Services   \\n25th Floor, Phiroze Jeejeebhoy Towers \\nDalal Street, Mumbai-400001 \\nScrip Code: 536493 \\nThrough: BSE Listing Centre \\nDear Sir/ Madam, \\nRe: Regulation 34 of SEBI (Listing Obligations and Disclosure Requirements), \\nRegulations, 2015 \\n- Annual Report for the financial year 2024-25\\n- Notice of 25th Annual General Meeting\\n ----------------------------------------------------------------------------------------------------------------- \\nPursuant to Regulation 34 of SEBI (Listing Obligations and Disclosure \\nRequirements), Regulations, 2015, we enclosed herewith Annual Report of the \\nCompany for the financial year 2024-2025 and the Notice of 25 th Annual General \\nMeeting of the Company scheduled to be held on Friday, 5 th September 2025 at 3:00 \\nP.M.')"
      ]
     },
     "execution_count": 23,
     "metadata": {},
     "output_type": "execute_result"
    }
   ],
   "source": [
    "docs[0]"
   ]
  },
  {
   "cell_type": "code",
   "execution_count": null,
   "id": "e1c2a111",
   "metadata": {},
   "outputs": [],
   "source": [
    "import time\n",
    "\n",
    "class PineConeNative:\n",
    "    def __init__(self,index_name,namespace,docs) -> None:\n",
    "        self.index_name = index_name\n",
    "        self.namespace = namespace\n",
    "        self.docs = docs\n",
    "        if not pc.has_index(index_name):\n",
    "            pc.create_index_for_model(\n",
    "                name=index_name,\n",
    "                cloud=\"aws\",\n",
    "                region=\"us-east-1\",\n",
    "                embed={\n",
    "                    \"model\":\"llama-text-embed-v2\",\n",
    "                    \"field_map\":{\"text\": \"chunk_text\"}\n",
    "                }\n",
    "            )\n",
    "        self.dense_index = pc.Index(index_name)\n",
    "\n",
    "    def summarize_and_categorize(self,text_content):\n",
    "        llm = ChatMistralAI(\n",
    "            model=\"ministral-8b-2410\",\n",
    "            mistral_api_key=mistral_key,\n",
    "            temperature=0\n",
    "        )\n",
    "        output_schema = {\n",
    "            \"name\": \"SummarizeAndCategorize\",\n",
    "            \"description\": \"Summarizes given content and suggests suitable & very specific category.\",\n",
    "            \"parameters\": {\n",
    "                \"type\": \"object\",\n",
    "                \"properties\": {\n",
    "                    \"text_response\": {\"type\": \"string\"},\n",
    "                    \"category\": {\"type\": \"string\"}\n",
    "                },\n",
    "                \"required\": [\"text_response\", \"category\"]\n",
    "            }\n",
    "        }\n",
    "\n",
    "        # Create a structured instance of the LLM\n",
    "        structured_llm = llm.with_structured_output(output_schema)\n",
    "        prompt = (\n",
    "            \"Summarize the following text in one paragraph and provide a suitable category for it.\\n\"\n",
    "            \"Return your answer as a dictionary with keys 'text_response' for the summary and 'category' for the category.\\n\\n\"\n",
    "            f\"Text:\\n{text_content}\\n\"\n",
    "        )        \n",
    "        return structured_llm.invoke(prompt)\n",
    "\n",
    "    def transform_records(self,threshold_token_size=1024):\n",
    "        transformed_docs = []\n",
    "        for idx,doc in enumerate(self.docs):\n",
    "            # Need to apply summarization strategy both query + document\n",
    "            summarized_docs = self.summarize_and_categorize(doc.page_content)\n",
    "            tmp_docs = {\"_id\":str(idx),\n",
    "                        \"chunk_text\":summarized_docs['text_response'] if len(summarized_docs['text_response'])>0 else doc.page_content[:1000],\n",
    "                        \"category\":summarized_docs['category'] if len(summarized_docs['category'])>0 else \"General\"}\n",
    "            transformed_docs.append(tmp_docs)\n",
    "        print(len(transformed_docs),type(transformed_docs[0]),transformed_docs[0])\n",
    "        return transformed_docs\n",
    "\n",
    "\n",
    "    def add_documents_in_batches(self,batch_size=5):\n",
    "        self.docs = self.transform_records()\n",
    "        total_docs = len(self.docs)\n",
    "    \n",
    "        for i in range(0, total_docs, batch_size):\n",
    "            batch = self.docs[i:i + batch_size]\n",
    "            print(f\"Processing batch {i//batch_size + 1}/{(total_docs + batch_size - 1)//batch_size}\")\n",
    "            try:\n",
    "                self.dense_index.upsert_records(self.namespace, batch)\n",
    "                time.sleep(2)\n",
    "            except Exception as e:\n",
    "                print(f\"Error processing batch {i//batch_size + 1}: {e}\")\n",
    "                # Exponential backoff\n",
    "                time.sleep(5 * (2 ** (i//batch_size)))\n",
    "                continue\n",
    "        \n",
    "        return self.dense_index\n"
   ]
  },
  {
   "cell_type": "code",
   "execution_count": 38,
   "id": "3678d895",
   "metadata": {},
   "outputs": [
    {
     "name": "stdout",
     "output_type": "stream",
     "text": [
      "90 <class 'dict'> {'_id': '0', 'chunk_text': 'BSE Ltd. has submitted its annual report for the financial year 2024-25 and a notice for its 25th Annual General Meeting, scheduled for September 5, 2025.', 'category': 'Corporate Announcements'}\n",
      "Processing batch 1/9\n",
      "Processing batch 2/9\n",
      "Processing batch 3/9\n",
      "Processing batch 4/9\n",
      "Processing batch 5/9\n",
      "Processing batch 6/9\n",
      "Processing batch 7/9\n",
      "Processing batch 8/9\n",
      "Processing batch 9/9\n"
     ]
    }
   ],
   "source": [
    "native_index_name=\"finance-pdf-index-native\"\n",
    "doc_namespace_native = \"pdf-semantic-search-native\"\n",
    "pinecone_obj = PineConeNative(native_index_name,doc_namespace_native,docs)\n",
    "dense_index = pinecone_obj.add_documents_in_batches(batch_size=10)"
   ]
  },
  {
   "cell_type": "markdown",
   "id": "991caca2",
   "metadata": {},
   "source": [
    "#### Update + Filter"
   ]
  },
  {
   "cell_type": "code",
   "execution_count": null,
   "id": "6cff75a4",
   "metadata": {},
   "outputs": [
    {
     "data": {
      "text/plain": [
       "{}"
      ]
     },
     "execution_count": 47,
     "metadata": {},
     "output_type": "execute_result"
    }
   ],
   "source": [
    "# Define the query\n",
    "query = \"what is the profit after tax ? how much did it change ?\"\n",
    "\n",
    "dense_index.update(id=\"46\", \n",
    "             set_metadata={\"category\": \"Director's report\",}, \n",
    "             namespace=doc_namespace_native)\n"
   ]
  },
  {
   "cell_type": "code",
   "execution_count": 52,
   "id": "793eb18e",
   "metadata": {},
   "outputs": [
    {
     "name": "stdout",
     "output_type": "stream",
     "text": [
      "{'result': {'hits': [{'_id': '72',\n",
      "                      '_score': 0.2803533375263214,\n",
      "                      'fields': {'category': 'Accounting'}},\n",
      "                     {'_id': '73',\n",
      "                      '_score': 0.254242479801178,\n",
      "                      'fields': {'category': 'Accounting'}},\n",
      "                     {'_id': '89',\n",
      "                      '_score': 0.22509200870990753,\n",
      "                      'fields': {'category': 'Financial Report'}},\n",
      "                     {'_id': '54',\n",
      "                      '_score': 0.22414502501487732,\n",
      "                      'fields': {'category': 'Financial Report'}},\n",
      "                     {'_id': '46',\n",
      "                      '_score': 0.2227933555841446,\n",
      "                      'fields': {'category': \"Director's report\"}}]},\n",
      " 'usage': {'embed_total_tokens': 16, 'read_units': 1}}\n"
     ]
    }
   ],
   "source": [
    "filtering_conditions = {\n",
    "        \"$or\": [\n",
    "            {\"category\": {\"$in\": [\"Financial Statements\",\"Director's report\", \"Accounting\",\"Financial Report\"]}},\n",
    "            {\"score\": {\"$gt\":0.20}},\n",
    "        ]\n",
    "    }\n",
    "\n",
    "filtered_results = dense_index.search(\n",
    "    namespace=doc_namespace_native, \n",
    "    query={\n",
    "        \"inputs\": {\"text\":query}, \n",
    "        \"top_k\": 5,\n",
    "        \"filter\": filtering_conditions,\n",
    "    },\n",
    "    fields=[\"category\", \"score\"]\n",
    ")\n",
    "\n",
    "print(filtered_results)"
   ]
  },
  {
   "cell_type": "code",
   "execution_count": 54,
   "id": "4df83a90",
   "metadata": {},
   "outputs": [],
   "source": [
    "# Delete by filtering metadata\n",
    "# dense_index.delete(\n",
    "#     filter={\n",
    "#         \"category\": {\"$eq\": \"Financial Report\"},\n",
    "#     }\n",
    "# )"
   ]
  },
  {
   "cell_type": "code",
   "execution_count": null,
   "id": "58335ac8",
   "metadata": {},
   "outputs": [
    {
     "name": "stdout",
     "output_type": "stream",
     "text": [
      "id: 60    | score: 0.3   | category: Finance    | text: The text discusses various financial aspects of the company's operations, including income tax expenses, changes in liabilities, impairment testing of intangible assets, exceptional items, and revenue recognition under contracts. It provides detailed information on the company's financial performance and the factors affecting it.\n",
      "id: 83    | score: 0.28  | category: Financial Statements, Accounting | text: The text provides a detailed breakdown of the income tax expense, including current income tax, deferred tax, and reconciliation of effective tax rate. It also includes information on deferred tax assets, changes in liabilities arising from financing activities, impairment testing of intangible assets, exceptional items, and revenue recognized under contracts. The text is categorized under 'Financial Statements' and 'Accounting' categories.\n",
      "id: 72    | score: 0.28  | category: Accounting | text: Long-term Employee Benefit: Compensated absences not expected within twelve months are recognized as a liability at the present value of the defined benefit obligation. Annual leaves can be availed or encashed with restrictions on maximum accumulation. Taxes on Income: Current tax is determined based on estimated taxable income and tax credits, with current income tax relating to items recognized directly in equity being recognized in equity and not in the statement of profit and loss.\n",
      "id: 73    | score: 0.25  | category: Accounting | text: Management periodically evaluates positions taken in the tax returns with respect to situations in which applicable tax regulations are subject to interpretation and establishes provisions where appropriate. Deferred tax is provided using the balance sheet approach on temporary differences at the reporting date between the tax bases of assets and liabilities and their carrying amounts for financial reporting purposes at the reporting date. The carrying amount of deferred tax assets is reviewed at each reporting date and reduced to the extent that it is no longer probable that sufficient taxable profit will be available to allow all or part of the deferred tax asset to be utilized. Unrecognized deferred tax assets are reassessed at each reporting date and are recognized to the extent that it has become probable that future taxable profits will allow the deferred tax asset to be recovered. Deferred tax assets and liabilities are measured at the tax rates that are applicable at the reporting date. Deferred tax relating to items recognized outside the Statement of Profit and Loss is recognized under Other Comprehensive Income (OCI). Deferred tax items are recognized in correlation to the underlying transaction either in other comprehensive income or directly in equity.\n",
      "id: 67    | score: 0.24  | category: Business   | text: The text provides details about the directors and equity share capital of Lodha & Co LLP for the year ended 31st March 2025. It includes information about the issued, subscribed, and paid-up equity shares, as well as changes in equity share capital during the year. Additionally, it provides details about the reserve and surplus, retained earnings, and other comprehensive income.\n",
      "id: 66    | score: 0.23  | category: Finance    | text: The text provides a summary of the financial statements for Lodha & Co LLP for the year ended 31st March 2025. It includes details of revenue, expenses, profit, and other comprehensive income. The company reported a loss of 250.88 lacs for the year.\n",
      "id: 89    | score: 0.23  | category: Financial Report | text: The associate or joint venture has not been consolidated due to the following reasons: 1. Net worth attributable to shareholding is 0.05. 2. Profit or loss for the year is 0.90, with 0.44 considered in consolidation and 0.46 not considered. 3. JKARSL is in the process of setting up its business, and no associates or joint ventures were liquidated or sold during the year.\n",
      "id: 54    | score: 0.22  | category: Financial Report | text: The Company is engaged in Agri & Allied products. It has one business segment, 'Agri & Allied products'. The company reported a loss of 250.44 lacs in 2024-25 and 2,082.08 lacs in 2023-24. The earnings per equity share were -5.40 in 2024-25 and -44.90 in 2023-24. No dividends were declared. The company adopted Ind AS 116 for leases, resulting in recognizing right-of-use assets and corresponding lease liabilities. The carrying value of right-of-use assets changed from 425.62 lacs to 100.71 lacs. The company spent 5.06 lacs on Corporate Social Responsibility activities in 2024-25.\n",
      "id: 46    | score: 0.22  | category: Director's report | text: The text provides details about the directors and equity share capital of a company, including changes in equity share capital and other equity components over the years 2024-25 and 2023-24.\n",
      "id: 62    | score: 0.22  | category: Finance    | text: Previous year’s figures have been re-grouped/re-classified/recast wherever necessary.\n"
     ]
    }
   ],
   "source": [
    "\n",
    "# Search the dense index\n",
    "results = dense_index.search(\n",
    "    namespace=doc_namespace_native,\n",
    "    query={\n",
    "        \"top_k\": 10,\n",
    "        \"inputs\": {\n",
    "            'text': query\n",
    "        }\n",
    "    }\n",
    ")\n",
    "\n",
    "# Print the results\n",
    "for hit in results['result']['hits']:\n",
    "        print(f\"id: {hit['_id']:<5} | score: {round(hit['_score'], 2):<5} | category: {hit['fields']['category']:<10} | text: {hit['fields']['chunk_text']:<50}\")"
   ]
  },
  {
   "cell_type": "markdown",
   "id": "3427da54",
   "metadata": {},
   "source": [
    "##### re-rank search"
   ]
  },
  {
   "cell_type": "code",
   "execution_count": 41,
   "id": "5eeefa6c",
   "metadata": {},
   "outputs": [
    {
     "name": "stdout",
     "output_type": "stream",
     "text": [
      "id: 54, score: 0.01, text: The Company is engaged in Agri & Allied products. It has one business segment, 'Agri & Allied products'. The company reported a loss of 250.44 lacs in 2024-25 and 2,082.08 lacs in 2023-24. The earnings per equity share were -5.40 in 2024-25 and -44.90 in 2023-24. No dividends were declared. The company adopted Ind AS 116 for leases, resulting in recognizing right-of-use assets and corresponding lease liabilities. The carrying value of right-of-use assets changed from 425.62 lacs to 100.71 lacs. The company spent 5.06 lacs on Corporate Social Responsibility activities in 2024-25., \n",
      "id: 73, score: 0.0, text: Management periodically evaluates positions taken in the tax returns with respect to situations in which applicable tax regulations are subject to interpretation and establishes provisions where appropriate. Deferred tax is provided using the balance sheet approach on temporary differences at the reporting date between the tax bases of assets and liabilities and their carrying amounts for financial reporting purposes at the reporting date. The carrying amount of deferred tax assets is reviewed at each reporting date and reduced to the extent that it is no longer probable that sufficient taxable profit will be available to allow all or part of the deferred tax asset to be utilized. Unrecognized deferred tax assets are reassessed at each reporting date and are recognized to the extent that it has become probable that future taxable profits will allow the deferred tax asset to be recovered. Deferred tax assets and liabilities are measured at the tax rates that are applicable at the reporting date. Deferred tax relating to items recognized outside the Statement of Profit and Loss is recognized under Other Comprehensive Income (OCI). Deferred tax items are recognized in correlation to the underlying transaction either in other comprehensive income or directly in equity., \n",
      "id: 66, score: 0.0, text: The text provides a summary of the financial statements for Lodha & Co LLP for the year ended 31st March 2025. It includes details of revenue, expenses, profit, and other comprehensive income. The company reported a loss of 250.88 lacs for the year., \n",
      "id: 89, score: 0.0, text: The associate or joint venture has not been consolidated due to the following reasons: 1. Net worth attributable to shareholding is 0.05. 2. Profit or loss for the year is 0.90, with 0.44 considered in consolidation and 0.46 not considered. 3. JKARSL is in the process of setting up its business, and no associates or joint ventures were liquidated or sold during the year., \n",
      "id: 60, score: 0.0, text: The text discusses various financial aspects of the company's operations, including income tax expenses, changes in liabilities, impairment testing of intangible assets, exceptional items, and revenue recognition under contracts. It provides detailed information on the company's financial performance and the factors affecting it., \n",
      "id: 72, score: 0.0, text: Long-term Employee Benefit: Compensated absences not expected within twelve months are recognized as a liability at the present value of the defined benefit obligation. Annual leaves can be availed or encashed with restrictions on maximum accumulation. Taxes on Income: Current tax is determined based on estimated taxable income and tax credits, with current income tax relating to items recognized directly in equity being recognized in equity and not in the statement of profit and loss., \n",
      "id: 83, score: 0.0, text: The text provides a detailed breakdown of the income tax expense, including current income tax, deferred tax, and reconciliation of effective tax rate. It also includes information on deferred tax assets, changes in liabilities arising from financing activities, impairment testing of intangible assets, exceptional items, and revenue recognized under contracts. The text is categorized under 'Financial Statements' and 'Accounting' categories., \n",
      "id: 67, score: 0.0, text: The text provides details about the directors and equity share capital of Lodha & Co LLP for the year ended 31st March 2025. It includes information about the issued, subscribed, and paid-up equity shares, as well as changes in equity share capital during the year. Additionally, it provides details about the reserve and surplus, retained earnings, and other comprehensive income., \n",
      "id: 62, score: 0.0, text: Previous year’s figures have been re-grouped/re-classified/recast wherever necessary., \n",
      "id: 46, score: 0.0, text: The text provides details about the directors and equity share capital of a company, including changes in equity share capital and other equity components over the years 2024-25 and 2023-24., \n"
     ]
    }
   ],
   "source": [
    "# Search the dense index and rerank results\n",
    "reranked_results = dense_index.search(\n",
    "    namespace=doc_namespace_native,\n",
    "    query={\n",
    "        \"top_k\": 10,\n",
    "        \"inputs\": {\n",
    "            'text': query\n",
    "        }\n",
    "    },\n",
    "    rerank={\n",
    "        \"model\": \"bge-reranker-v2-m3\",\n",
    "        \"top_n\": 10,\n",
    "        \"rank_fields\": [\"chunk_text\"]\n",
    "    }   \n",
    ")\n",
    "\n",
    "# Print the reranked results\n",
    "for hit in reranked_results['result']['hits']:\n",
    "    print(f\"id: {hit['_id']}, score: {round(hit['_score'], 2)}, text: {hit['fields']['chunk_text']}, \")"
   ]
  },
  {
   "cell_type": "code",
   "execution_count": null,
   "id": "0a2ced2a",
   "metadata": {},
   "outputs": [],
   "source": []
  },
  {
   "cell_type": "markdown",
   "id": "bd12a4ad",
   "metadata": {},
   "source": [
    "HyDe retriever "
   ]
  },
  {
   "cell_type": "code",
   "execution_count": null,
   "id": "fbf3f27a",
   "metadata": {},
   "outputs": [],
   "source": []
  },
  {
   "cell_type": "code",
   "execution_count": null,
   "id": "a1f79255",
   "metadata": {},
   "outputs": [],
   "source": []
  }
 ],
 "metadata": {
  "kernelspec": {
   "display_name": "virtualenv",
   "language": "python",
   "name": "python3"
  },
  "language_info": {
   "codemirror_mode": {
    "name": "ipython",
    "version": 3
   },
   "file_extension": ".py",
   "mimetype": "text/x-python",
   "name": "python",
   "nbconvert_exporter": "python",
   "pygments_lexer": "ipython3",
   "version": "3.11.9"
  }
 },
 "nbformat": 4,
 "nbformat_minor": 5
}
